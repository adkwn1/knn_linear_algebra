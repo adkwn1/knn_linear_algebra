{
 "cells": [
  {
   "attachments": {},
   "cell_type": "markdown",
   "metadata": {},
   "source": [
    "## Introduction ##\n",
    "\n",
    "Using machine learning and a set of client data from an insurance company, we are to solve the following tasks:\n",
    "- Task 1: Find customers who are similar to a given customer. This will help the company's agents with marketing.\n",
    "- Task 2: Predict whether a new customer is likely to receive an insurance benefit. Can a prediction model do better than a dummy model?\n",
    "- Task 3: Predict the number of insurance benefits a new customer is likely to receive using a linear regression model.\n",
    "- Task 4: Protect clients' personal data without breaking the model from the previous task. It's necessary to develop a data transformation algorithm that would make it hard to recover personal information if the data fell into the wrong hands. This is called data masking, or data obfuscation. But the data should be protected in such a way that the quality of machine learning models doesn't suffer. You don't need to pick the best model, just prove that the algorithm works correctly."
   ]
  },
  {
   "attachments": {},
   "cell_type": "markdown",
   "metadata": {},
   "source": [
    "The dataset is provided as follows:\n",
    "\n",
    "**insurance_us.csv**\n",
    "- *Gender*: Gender of the insured client.\n",
    "- *Age*: Client's age.\n",
    "- *Salary*: Client's salary.\n",
    "- *Family Members*: Number of family members insured under the client.\n",
    "- *Insurance Benefits*: Number of benefits claimed by the insured person in the last five years."
   ]
  },
  {
   "attachments": {},
   "cell_type": "markdown",
   "metadata": {},
   "source": [
    "## Data Preprocessing & Exploration ##\n",
    "\n",
    "**Initialization**"
   ]
  },
  {
   "cell_type": "code",
   "execution_count": 1,
   "metadata": {},
   "outputs": [],
   "source": [
    "import numpy as np\n",
    "import pandas as pd\n",
    "import math\n",
    "\n",
    "import seaborn as sns\n",
    "\n",
    "import sklearn.linear_model\n",
    "import sklearn.metrics\n",
    "import sklearn.preprocessing\n",
    "from sklearn.model_selection import train_test_split\n",
    "from sklearn.neighbors import NearestNeighbors\n",
    "from sklearn.neighbors import KNeighborsClassifier"
   ]
  },
  {
   "attachments": {},
   "cell_type": "markdown",
   "metadata": {},
   "source": [
    "**Load and Inspect Data**"
   ]
  },
  {
   "cell_type": "code",
   "execution_count": 2,
   "metadata": {},
   "outputs": [
    {
     "data": {
      "text/html": [
       "<div>\n",
       "<style scoped>\n",
       "    .dataframe tbody tr th:only-of-type {\n",
       "        vertical-align: middle;\n",
       "    }\n",
       "\n",
       "    .dataframe tbody tr th {\n",
       "        vertical-align: top;\n",
       "    }\n",
       "\n",
       "    .dataframe thead th {\n",
       "        text-align: right;\n",
       "    }\n",
       "</style>\n",
       "<table border=\"1\" class=\"dataframe\">\n",
       "  <thead>\n",
       "    <tr style=\"text-align: right;\">\n",
       "      <th></th>\n",
       "      <th>Gender</th>\n",
       "      <th>Age</th>\n",
       "      <th>Salary</th>\n",
       "      <th>Family members</th>\n",
       "      <th>Insurance benefits</th>\n",
       "    </tr>\n",
       "  </thead>\n",
       "  <tbody>\n",
       "    <tr>\n",
       "      <th>3884</th>\n",
       "      <td>0</td>\n",
       "      <td>26.0</td>\n",
       "      <td>48400.0</td>\n",
       "      <td>3</td>\n",
       "      <td>0</td>\n",
       "    </tr>\n",
       "    <tr>\n",
       "      <th>3561</th>\n",
       "      <td>1</td>\n",
       "      <td>20.0</td>\n",
       "      <td>45100.0</td>\n",
       "      <td>2</td>\n",
       "      <td>0</td>\n",
       "    </tr>\n",
       "    <tr>\n",
       "      <th>183</th>\n",
       "      <td>0</td>\n",
       "      <td>18.0</td>\n",
       "      <td>48300.0</td>\n",
       "      <td>2</td>\n",
       "      <td>0</td>\n",
       "    </tr>\n",
       "    <tr>\n",
       "      <th>4231</th>\n",
       "      <td>0</td>\n",
       "      <td>51.0</td>\n",
       "      <td>28300.0</td>\n",
       "      <td>0</td>\n",
       "      <td>2</td>\n",
       "    </tr>\n",
       "    <tr>\n",
       "      <th>1594</th>\n",
       "      <td>1</td>\n",
       "      <td>27.0</td>\n",
       "      <td>41600.0</td>\n",
       "      <td>0</td>\n",
       "      <td>0</td>\n",
       "    </tr>\n",
       "    <tr>\n",
       "      <th>4836</th>\n",
       "      <td>1</td>\n",
       "      <td>38.0</td>\n",
       "      <td>43600.0</td>\n",
       "      <td>1</td>\n",
       "      <td>0</td>\n",
       "    </tr>\n",
       "    <tr>\n",
       "      <th>4080</th>\n",
       "      <td>0</td>\n",
       "      <td>42.0</td>\n",
       "      <td>33700.0</td>\n",
       "      <td>2</td>\n",
       "      <td>0</td>\n",
       "    </tr>\n",
       "    <tr>\n",
       "      <th>3738</th>\n",
       "      <td>1</td>\n",
       "      <td>19.0</td>\n",
       "      <td>58300.0</td>\n",
       "      <td>0</td>\n",
       "      <td>0</td>\n",
       "    </tr>\n",
       "    <tr>\n",
       "      <th>2660</th>\n",
       "      <td>0</td>\n",
       "      <td>36.0</td>\n",
       "      <td>19900.0</td>\n",
       "      <td>1</td>\n",
       "      <td>0</td>\n",
       "    </tr>\n",
       "    <tr>\n",
       "      <th>1703</th>\n",
       "      <td>1</td>\n",
       "      <td>34.0</td>\n",
       "      <td>23500.0</td>\n",
       "      <td>3</td>\n",
       "      <td>0</td>\n",
       "    </tr>\n",
       "  </tbody>\n",
       "</table>\n",
       "</div>"
      ],
      "text/plain": [
       "      Gender   Age   Salary  Family members  Insurance benefits\n",
       "3884       0  26.0  48400.0               3                   0\n",
       "3561       1  20.0  45100.0               2                   0\n",
       "183        0  18.0  48300.0               2                   0\n",
       "4231       0  51.0  28300.0               0                   2\n",
       "1594       1  27.0  41600.0               0                   0\n",
       "4836       1  38.0  43600.0               1                   0\n",
       "4080       0  42.0  33700.0               2                   0\n",
       "3738       1  19.0  58300.0               0                   0\n",
       "2660       0  36.0  19900.0               1                   0\n",
       "1703       1  34.0  23500.0               3                   0"
      ]
     },
     "metadata": {},
     "output_type": "display_data"
    },
    {
     "name": "stdout",
     "output_type": "stream",
     "text": [
      "<class 'pandas.core.frame.DataFrame'>\n",
      "RangeIndex: 5000 entries, 0 to 4999\n",
      "Data columns (total 5 columns):\n",
      " #   Column              Non-Null Count  Dtype  \n",
      "---  ------              --------------  -----  \n",
      " 0   Gender              5000 non-null   int64  \n",
      " 1   Age                 5000 non-null   float64\n",
      " 2   Salary              5000 non-null   float64\n",
      " 3   Family members      5000 non-null   int64  \n",
      " 4   Insurance benefits  5000 non-null   int64  \n",
      "dtypes: float64(2), int64(3)\n",
      "memory usage: 195.4 KB\n"
     ]
    }
   ],
   "source": [
    "# When cloning this project, ensure directory/file paths are correct with respect to user's operating system\n",
    "df = pd.read_csv('datasets/insurance_us.csv')\n",
    "display(df.sample(10))\n",
    "df.info()"
   ]
  },
  {
   "attachments": {},
   "cell_type": "markdown",
   "metadata": {},
   "source": [
    "Changing column names and dtypes."
   ]
  },
  {
   "cell_type": "code",
   "execution_count": 3,
   "metadata": {},
   "outputs": [
    {
     "name": "stdout",
     "output_type": "stream",
     "text": [
      "<class 'pandas.core.frame.DataFrame'>\n",
      "RangeIndex: 5000 entries, 0 to 4999\n",
      "Data columns (total 5 columns):\n",
      " #   Column              Non-Null Count  Dtype  \n",
      "---  ------              --------------  -----  \n",
      " 0   gender              5000 non-null   int64  \n",
      " 1   age                 5000 non-null   int64  \n",
      " 2   income              5000 non-null   float64\n",
      " 3   family_members      5000 non-null   int64  \n",
      " 4   insurance_benefits  5000 non-null   int64  \n",
      "dtypes: float64(1), int64(4)\n",
      "memory usage: 195.4 KB\n"
     ]
    }
   ],
   "source": [
    "df = df.rename(columns={'Gender': 'gender',\n",
    "                        'Age': 'age',\n",
    "                        'Salary': 'income',\n",
    "                        'Family members': 'family_members',\n",
    "                        'Insurance benefits': 'insurance_benefits'})\n",
    "df['age'] = df['age'].astype('int64')\n",
    "\n",
    "df.info()"
   ]
  },
  {
   "attachments": {},
   "cell_type": "markdown",
   "metadata": {},
   "source": [
    "Checking for missing values, duplicate rows, and overall data integrity."
   ]
  },
  {
   "cell_type": "code",
   "execution_count": 4,
   "metadata": {},
   "outputs": [
    {
     "name": "stdout",
     "output_type": "stream",
     "text": [
      "Null values:\n",
      "gender                0\n",
      "age                   0\n",
      "income                0\n",
      "family_members        0\n",
      "insurance_benefits    0\n",
      "dtype: int64\n",
      "\n",
      "Duplicate rows:\n",
      "153\n",
      "\n",
      "Number of unique values:\n",
      "gender                  2\n",
      "age                    46\n",
      "income                524\n",
      "family_members          7\n",
      "insurance_benefits      6\n",
      "dtype: int64\n"
     ]
    },
    {
     "data": {
      "text/html": [
       "<div>\n",
       "<style scoped>\n",
       "    .dataframe tbody tr th:only-of-type {\n",
       "        vertical-align: middle;\n",
       "    }\n",
       "\n",
       "    .dataframe tbody tr th {\n",
       "        vertical-align: top;\n",
       "    }\n",
       "\n",
       "    .dataframe thead th {\n",
       "        text-align: right;\n",
       "    }\n",
       "</style>\n",
       "<table border=\"1\" class=\"dataframe\">\n",
       "  <thead>\n",
       "    <tr style=\"text-align: right;\">\n",
       "      <th></th>\n",
       "      <th>gender</th>\n",
       "      <th>age</th>\n",
       "      <th>income</th>\n",
       "      <th>family_members</th>\n",
       "      <th>insurance_benefits</th>\n",
       "    </tr>\n",
       "  </thead>\n",
       "  <tbody>\n",
       "    <tr>\n",
       "      <th>count</th>\n",
       "      <td>5000.000000</td>\n",
       "      <td>5000.000000</td>\n",
       "      <td>5000.000000</td>\n",
       "      <td>5000.000000</td>\n",
       "      <td>5000.000000</td>\n",
       "    </tr>\n",
       "    <tr>\n",
       "      <th>mean</th>\n",
       "      <td>0.499000</td>\n",
       "      <td>30.952800</td>\n",
       "      <td>39916.360000</td>\n",
       "      <td>1.194200</td>\n",
       "      <td>0.148000</td>\n",
       "    </tr>\n",
       "    <tr>\n",
       "      <th>std</th>\n",
       "      <td>0.500049</td>\n",
       "      <td>8.440807</td>\n",
       "      <td>9900.083569</td>\n",
       "      <td>1.091387</td>\n",
       "      <td>0.463183</td>\n",
       "    </tr>\n",
       "    <tr>\n",
       "      <th>min</th>\n",
       "      <td>0.000000</td>\n",
       "      <td>18.000000</td>\n",
       "      <td>5300.000000</td>\n",
       "      <td>0.000000</td>\n",
       "      <td>0.000000</td>\n",
       "    </tr>\n",
       "    <tr>\n",
       "      <th>25%</th>\n",
       "      <td>0.000000</td>\n",
       "      <td>24.000000</td>\n",
       "      <td>33300.000000</td>\n",
       "      <td>0.000000</td>\n",
       "      <td>0.000000</td>\n",
       "    </tr>\n",
       "    <tr>\n",
       "      <th>50%</th>\n",
       "      <td>0.000000</td>\n",
       "      <td>30.000000</td>\n",
       "      <td>40200.000000</td>\n",
       "      <td>1.000000</td>\n",
       "      <td>0.000000</td>\n",
       "    </tr>\n",
       "    <tr>\n",
       "      <th>75%</th>\n",
       "      <td>1.000000</td>\n",
       "      <td>37.000000</td>\n",
       "      <td>46600.000000</td>\n",
       "      <td>2.000000</td>\n",
       "      <td>0.000000</td>\n",
       "    </tr>\n",
       "    <tr>\n",
       "      <th>max</th>\n",
       "      <td>1.000000</td>\n",
       "      <td>65.000000</td>\n",
       "      <td>79000.000000</td>\n",
       "      <td>6.000000</td>\n",
       "      <td>5.000000</td>\n",
       "    </tr>\n",
       "  </tbody>\n",
       "</table>\n",
       "</div>"
      ],
      "text/plain": [
       "            gender          age        income  family_members  \\\n",
       "count  5000.000000  5000.000000   5000.000000     5000.000000   \n",
       "mean      0.499000    30.952800  39916.360000        1.194200   \n",
       "std       0.500049     8.440807   9900.083569        1.091387   \n",
       "min       0.000000    18.000000   5300.000000        0.000000   \n",
       "25%       0.000000    24.000000  33300.000000        0.000000   \n",
       "50%       0.000000    30.000000  40200.000000        1.000000   \n",
       "75%       1.000000    37.000000  46600.000000        2.000000   \n",
       "max       1.000000    65.000000  79000.000000        6.000000   \n",
       "\n",
       "       insurance_benefits  \n",
       "count         5000.000000  \n",
       "mean             0.148000  \n",
       "std              0.463183  \n",
       "min              0.000000  \n",
       "25%              0.000000  \n",
       "50%              0.000000  \n",
       "75%              0.000000  \n",
       "max              5.000000  "
      ]
     },
     "metadata": {},
     "output_type": "display_data"
    }
   ],
   "source": [
    "print(f'Null values:\\n{df.isna().sum()}\\n')\n",
    "print(f'Duplicate rows:\\n{df.duplicated().sum()}\\n')\n",
    "print(f'Number of unique values:\\n{df.nunique()}')\n",
    "display(df.describe())"
   ]
  },
  {
   "attachments": {},
   "cell_type": "markdown",
   "metadata": {},
   "source": [
    "There are 5,000 entries in the dataset with no missing values. There are 153 identical rows, which is likely a coincidence and not an error for this type of dataset. It accounts for only 3% of the data so we'll drop the duplicate entries. The range of unique values in each column appear to be reasonable, although there is an obvious skew in distribution for the values in *insurance_benefits*."
   ]
  },
  {
   "cell_type": "code",
   "execution_count": 5,
   "metadata": {},
   "outputs": [
    {
     "name": "stdout",
     "output_type": "stream",
     "text": [
      "<class 'pandas.core.frame.DataFrame'>\n",
      "RangeIndex: 4847 entries, 0 to 4846\n",
      "Data columns (total 5 columns):\n",
      " #   Column              Non-Null Count  Dtype  \n",
      "---  ------              --------------  -----  \n",
      " 0   gender              4847 non-null   int64  \n",
      " 1   age                 4847 non-null   int64  \n",
      " 2   income              4847 non-null   float64\n",
      " 3   family_members      4847 non-null   int64  \n",
      " 4   insurance_benefits  4847 non-null   int64  \n",
      "dtypes: float64(1), int64(4)\n",
      "memory usage: 189.5 KB\n"
     ]
    }
   ],
   "source": [
    "df = df.drop_duplicates(ignore_index=True)\n",
    "df.info()"
   ]
  },
  {
   "attachments": {},
   "cell_type": "markdown",
   "metadata": {},
   "source": [
    "## Exploratory Data Analysis ##\n",
    "\n",
    "Let's quickly check whether there are certain groups of customers by looking at the pair plot."
   ]
  },
  {
   "cell_type": "code",
   "execution_count": 6,
   "metadata": {},
   "outputs": [
    {
     "data": {
      "image/png": "[encoded data removed]",
      "text/plain": [
       "<Figure size 1200x1200 with 30 Axes>"
      ]
     },
     "metadata": {},
     "output_type": "display_data"
    }
   ],
   "source": [
    "g = sns.pairplot(df, kind='hist')\n",
    "g.fig.set_size_inches(12, 12)"
   ]
  },
  {
   "attachments": {},
   "cell_type": "markdown",
   "metadata": {},
   "source": [
    "It is a bit difficult to spot obvious groups (clusters) as it is difficult to combine several variables simultaneously (to analyze multivariate distributions)."
   ]
  },
  {
   "attachments": {},
   "cell_type": "markdown",
   "metadata": {},
   "source": [
    "## Task 1. Similar Customers\n",
    "\n",
    "Find customers who are similar to a given customer. This will help the company's agents with marketing. Test it for four combinations of two cases:\n",
    "- Scaling\n",
    "  - the data is not scaled\n",
    "  - the data is scaled with the MaxAbsScaler\n",
    "- Distance Metrics\n",
    "  - Euclidean\n",
    "  - Manhattan\n",
    "\n",
    "Answer these questions:\n",
    "- Does the data being not scaled affect the kNN algorithm? If so, how does that appear?\n",
    "- How similar are the results using the Manhattan distance metric (regardless of the scaling)?"
   ]
  },
  {
   "attachments": {},
   "cell_type": "markdown",
   "metadata": {},
   "source": [
    "### Function Definitions\n",
    "\n",
    "We'll define the function <code>get_knn()</code> as follows: \n",
    "\n",
    "**Parameters**\n",
    "- *df*: pandas DataFrame used to find similar objects within\n",
    "- *n*: object number for which the nearest neighbors are looked for\n",
    "- *k*: the number of the nearest neighbors to return\n",
    "- *metric*: name of distance metric (e.g. 'euclidean' or 'manhattan')\n",
    "\n",
    "**Returns**: DataFarme containing observation n and the k nearest neighbors."
   ]
  },
  {
   "cell_type": "code",
   "execution_count": 7,
   "metadata": {},
   "outputs": [],
   "source": [
    "def get_knn(df, n, k, metric):\n",
    "    nbrs = NearestNeighbors(n_neighbors=k, metric=metric)\n",
    "    nbrs.fit(df.values)\n",
    "    nbrs_distances, nbrs_indices = nbrs.kneighbors([df.iloc[n]], k, return_distance=True)\n",
    "    \n",
    "    df_res = pd.concat([\n",
    "        df.iloc[nbrs_indices[0]], \n",
    "        pd.DataFrame(nbrs_distances.T, index=nbrs_indices[0], columns=['distance'])\n",
    "        ], axis=1)\n",
    "    \n",
    "    return df_res"
   ]
  },
  {
   "attachments": {},
   "cell_type": "markdown",
   "metadata": {},
   "source": [
    "For scaling the data, we'll define <code>scale_data()</code> as follows:\n",
    "\n",
    "**Parameters**\n",
    "- *train_feat*: DataFrame of training features\n",
    "- *test_feat*: DataFrame of test features, default value of empty Series (single column DataFrame) object\n",
    "\n",
    "**Returns**: DataFrame of the scaled data, or a tuple of the scaled training and test sets as DataFrame objects."
   ]
  },
  {
   "cell_type": "code",
   "execution_count": 8,
   "metadata": {},
   "outputs": [],
   "source": [
    "def scale_data(train_feat, test_feat=pd.Series(dtype=object)):\n",
    "    feature_names = train_feat.columns\n",
    "    transformer_mas = sklearn.preprocessing.MaxAbsScaler().fit(train_feat.to_numpy())\n",
    "    \n",
    "    train_scaled = pd.DataFrame(transformer_mas.transform(train_feat.to_numpy()), columns=feature_names)\n",
    "    \n",
    "    if test_feat.empty:\n",
    "        return train_scaled\n",
    "    else:\n",
    "        test_scaled = pd.DataFrame(transformer_mas.transform(test_feat.to_numpy()), columns=feature_names)\n",
    "        return train_scaled, test_scaled"
   ]
  },
  {
   "attachments": {},
   "cell_type": "markdown",
   "metadata": {},
   "source": [
    "**Find Similar Records**\n",
    "\n",
    "We'll find the 10 nearest neighbors (k=10) of observation index 100 (n=100) using different combinations of the following parameters:\n",
    "- Euclidean vs. Manhattan Distance\n",
    "- Scaled vs. Original Dataset"
   ]
  },
  {
   "cell_type": "code",
   "execution_count": 9,
   "metadata": {},
   "outputs": [
    {
     "data": {
      "text/html": [
       "<div>\n",
       "<style scoped>\n",
       "    .dataframe tbody tr th:only-of-type {\n",
       "        vertical-align: middle;\n",
       "    }\n",
       "\n",
       "    .dataframe tbody tr th {\n",
       "        vertical-align: top;\n",
       "    }\n",
       "\n",
       "    .dataframe thead th {\n",
       "        text-align: right;\n",
       "    }\n",
       "</style>\n",
       "<table border=\"1\" class=\"dataframe\">\n",
       "  <thead>\n",
       "    <tr style=\"text-align: right;\">\n",
       "      <th></th>\n",
       "      <th>gender</th>\n",
       "      <th>age</th>\n",
       "      <th>income</th>\n",
       "      <th>family_members</th>\n",
       "      <th>distance</th>\n",
       "    </tr>\n",
       "  </thead>\n",
       "  <tbody>\n",
       "    <tr>\n",
       "      <th>100</th>\n",
       "      <td>0</td>\n",
       "      <td>19</td>\n",
       "      <td>37300.0</td>\n",
       "      <td>1</td>\n",
       "      <td>0.000000</td>\n",
       "    </tr>\n",
       "    <tr>\n",
       "      <th>4147</th>\n",
       "      <td>1</td>\n",
       "      <td>19</td>\n",
       "      <td>37300.0</td>\n",
       "      <td>2</td>\n",
       "      <td>1.414214</td>\n",
       "    </tr>\n",
       "    <tr>\n",
       "      <th>2569</th>\n",
       "      <td>1</td>\n",
       "      <td>19</td>\n",
       "      <td>37300.0</td>\n",
       "      <td>0</td>\n",
       "      <td>1.414214</td>\n",
       "    </tr>\n",
       "    <tr>\n",
       "      <th>1803</th>\n",
       "      <td>0</td>\n",
       "      <td>20</td>\n",
       "      <td>37300.0</td>\n",
       "      <td>2</td>\n",
       "      <td>1.414214</td>\n",
       "    </tr>\n",
       "    <tr>\n",
       "      <th>1078</th>\n",
       "      <td>0</td>\n",
       "      <td>22</td>\n",
       "      <td>37300.0</td>\n",
       "      <td>3</td>\n",
       "      <td>3.605551</td>\n",
       "    </tr>\n",
       "    <tr>\n",
       "      <th>1780</th>\n",
       "      <td>1</td>\n",
       "      <td>23</td>\n",
       "      <td>37300.0</td>\n",
       "      <td>0</td>\n",
       "      <td>4.242641</td>\n",
       "    </tr>\n",
       "    <tr>\n",
       "      <th>3357</th>\n",
       "      <td>1</td>\n",
       "      <td>25</td>\n",
       "      <td>37300.0</td>\n",
       "      <td>0</td>\n",
       "      <td>6.164414</td>\n",
       "    </tr>\n",
       "    <tr>\n",
       "      <th>565</th>\n",
       "      <td>1</td>\n",
       "      <td>27</td>\n",
       "      <td>37300.0</td>\n",
       "      <td>0</td>\n",
       "      <td>8.124038</td>\n",
       "    </tr>\n",
       "    <tr>\n",
       "      <th>168</th>\n",
       "      <td>0</td>\n",
       "      <td>30</td>\n",
       "      <td>37300.0</td>\n",
       "      <td>0</td>\n",
       "      <td>11.045361</td>\n",
       "    </tr>\n",
       "    <tr>\n",
       "      <th>1047</th>\n",
       "      <td>1</td>\n",
       "      <td>30</td>\n",
       "      <td>37300.0</td>\n",
       "      <td>2</td>\n",
       "      <td>11.090537</td>\n",
       "    </tr>\n",
       "  </tbody>\n",
       "</table>\n",
       "</div>"
      ],
      "text/plain": [
       "      gender  age   income  family_members   distance\n",
       "100        0   19  37300.0               1   0.000000\n",
       "4147       1   19  37300.0               2   1.414214\n",
       "2569       1   19  37300.0               0   1.414214\n",
       "1803       0   20  37300.0               2   1.414214\n",
       "1078       0   22  37300.0               3   3.605551\n",
       "1780       1   23  37300.0               0   4.242641\n",
       "3357       1   25  37300.0               0   6.164414\n",
       "565        1   27  37300.0               0   8.124038\n",
       "168        0   30  37300.0               0  11.045361\n",
       "1047       1   30  37300.0               2  11.090537"
      ]
     },
     "metadata": {},
     "output_type": "display_data"
    },
    {
     "data": {
      "text/html": [
       "<div>\n",
       "<style scoped>\n",
       "    .dataframe tbody tr th:only-of-type {\n",
       "        vertical-align: middle;\n",
       "    }\n",
       "\n",
       "    .dataframe tbody tr th {\n",
       "        vertical-align: top;\n",
       "    }\n",
       "\n",
       "    .dataframe thead th {\n",
       "        text-align: right;\n",
       "    }\n",
       "</style>\n",
       "<table border=\"1\" class=\"dataframe\">\n",
       "  <thead>\n",
       "    <tr style=\"text-align: right;\">\n",
       "      <th></th>\n",
       "      <th>gender</th>\n",
       "      <th>age</th>\n",
       "      <th>income</th>\n",
       "      <th>family_members</th>\n",
       "      <th>distance</th>\n",
       "    </tr>\n",
       "  </thead>\n",
       "  <tbody>\n",
       "    <tr>\n",
       "      <th>100</th>\n",
       "      <td>0.0</td>\n",
       "      <td>0.292308</td>\n",
       "      <td>0.472152</td>\n",
       "      <td>0.166667</td>\n",
       "      <td>0.000000</td>\n",
       "    </tr>\n",
       "    <tr>\n",
       "      <th>4765</th>\n",
       "      <td>0.0</td>\n",
       "      <td>0.292308</td>\n",
       "      <td>0.477215</td>\n",
       "      <td>0.166667</td>\n",
       "      <td>0.005063</td>\n",
       "    </tr>\n",
       "    <tr>\n",
       "      <th>243</th>\n",
       "      <td>0.0</td>\n",
       "      <td>0.292308</td>\n",
       "      <td>0.467089</td>\n",
       "      <td>0.166667</td>\n",
       "      <td>0.005063</td>\n",
       "    </tr>\n",
       "    <tr>\n",
       "      <th>1309</th>\n",
       "      <td>0.0</td>\n",
       "      <td>0.292308</td>\n",
       "      <td>0.456962</td>\n",
       "      <td>0.166667</td>\n",
       "      <td>0.015190</td>\n",
       "    </tr>\n",
       "    <tr>\n",
       "      <th>806</th>\n",
       "      <td>0.0</td>\n",
       "      <td>0.307692</td>\n",
       "      <td>0.470886</td>\n",
       "      <td>0.166667</td>\n",
       "      <td>0.015437</td>\n",
       "    </tr>\n",
       "    <tr>\n",
       "      <th>4694</th>\n",
       "      <td>0.0</td>\n",
       "      <td>0.307692</td>\n",
       "      <td>0.469620</td>\n",
       "      <td>0.166667</td>\n",
       "      <td>0.015592</td>\n",
       "    </tr>\n",
       "    <tr>\n",
       "      <th>4387</th>\n",
       "      <td>0.0</td>\n",
       "      <td>0.276923</td>\n",
       "      <td>0.467089</td>\n",
       "      <td>0.166667</td>\n",
       "      <td>0.016196</td>\n",
       "    </tr>\n",
       "    <tr>\n",
       "      <th>1628</th>\n",
       "      <td>0.0</td>\n",
       "      <td>0.276923</td>\n",
       "      <td>0.465823</td>\n",
       "      <td>0.166667</td>\n",
       "      <td>0.016636</td>\n",
       "    </tr>\n",
       "    <tr>\n",
       "      <th>2991</th>\n",
       "      <td>0.0</td>\n",
       "      <td>0.307692</td>\n",
       "      <td>0.463291</td>\n",
       "      <td>0.166667</td>\n",
       "      <td>0.017754</td>\n",
       "    </tr>\n",
       "    <tr>\n",
       "      <th>2736</th>\n",
       "      <td>0.0</td>\n",
       "      <td>0.276923</td>\n",
       "      <td>0.482278</td>\n",
       "      <td>0.166667</td>\n",
       "      <td>0.018418</td>\n",
       "    </tr>\n",
       "  </tbody>\n",
       "</table>\n",
       "</div>"
      ],
      "text/plain": [
       "      gender       age    income  family_members  distance\n",
       "100      0.0  0.292308  0.472152        0.166667  0.000000\n",
       "4765     0.0  0.292308  0.477215        0.166667  0.005063\n",
       "243      0.0  0.292308  0.467089        0.166667  0.005063\n",
       "1309     0.0  0.292308  0.456962        0.166667  0.015190\n",
       "806      0.0  0.307692  0.470886        0.166667  0.015437\n",
       "4694     0.0  0.307692  0.469620        0.166667  0.015592\n",
       "4387     0.0  0.276923  0.467089        0.166667  0.016196\n",
       "1628     0.0  0.276923  0.465823        0.166667  0.016636\n",
       "2991     0.0  0.307692  0.463291        0.166667  0.017754\n",
       "2736     0.0  0.276923  0.482278        0.166667  0.018418"
      ]
     },
     "metadata": {},
     "output_type": "display_data"
    },
    {
     "data": {
      "text/html": [
       "<div>\n",
       "<style scoped>\n",
       "    .dataframe tbody tr th:only-of-type {\n",
       "        vertical-align: middle;\n",
       "    }\n",
       "\n",
       "    .dataframe tbody tr th {\n",
       "        vertical-align: top;\n",
       "    }\n",
       "\n",
       "    .dataframe thead th {\n",
       "        text-align: right;\n",
       "    }\n",
       "</style>\n",
       "<table border=\"1\" class=\"dataframe\">\n",
       "  <thead>\n",
       "    <tr style=\"text-align: right;\">\n",
       "      <th></th>\n",
       "      <th>gender</th>\n",
       "      <th>age</th>\n",
       "      <th>income</th>\n",
       "      <th>family_members</th>\n",
       "      <th>distance</th>\n",
       "    </tr>\n",
       "  </thead>\n",
       "  <tbody>\n",
       "    <tr>\n",
       "      <th>100</th>\n",
       "      <td>0</td>\n",
       "      <td>19</td>\n",
       "      <td>37300.0</td>\n",
       "      <td>1</td>\n",
       "      <td>0.0</td>\n",
       "    </tr>\n",
       "    <tr>\n",
       "      <th>4147</th>\n",
       "      <td>1</td>\n",
       "      <td>19</td>\n",
       "      <td>37300.0</td>\n",
       "      <td>2</td>\n",
       "      <td>2.0</td>\n",
       "    </tr>\n",
       "    <tr>\n",
       "      <th>2569</th>\n",
       "      <td>1</td>\n",
       "      <td>19</td>\n",
       "      <td>37300.0</td>\n",
       "      <td>0</td>\n",
       "      <td>2.0</td>\n",
       "    </tr>\n",
       "    <tr>\n",
       "      <th>1803</th>\n",
       "      <td>0</td>\n",
       "      <td>20</td>\n",
       "      <td>37300.0</td>\n",
       "      <td>2</td>\n",
       "      <td>2.0</td>\n",
       "    </tr>\n",
       "    <tr>\n",
       "      <th>1078</th>\n",
       "      <td>0</td>\n",
       "      <td>22</td>\n",
       "      <td>37300.0</td>\n",
       "      <td>3</td>\n",
       "      <td>5.0</td>\n",
       "    </tr>\n",
       "    <tr>\n",
       "      <th>1780</th>\n",
       "      <td>1</td>\n",
       "      <td>23</td>\n",
       "      <td>37300.0</td>\n",
       "      <td>0</td>\n",
       "      <td>6.0</td>\n",
       "    </tr>\n",
       "    <tr>\n",
       "      <th>3357</th>\n",
       "      <td>1</td>\n",
       "      <td>25</td>\n",
       "      <td>37300.0</td>\n",
       "      <td>0</td>\n",
       "      <td>8.0</td>\n",
       "    </tr>\n",
       "    <tr>\n",
       "      <th>565</th>\n",
       "      <td>1</td>\n",
       "      <td>27</td>\n",
       "      <td>37300.0</td>\n",
       "      <td>0</td>\n",
       "      <td>10.0</td>\n",
       "    </tr>\n",
       "    <tr>\n",
       "      <th>168</th>\n",
       "      <td>0</td>\n",
       "      <td>30</td>\n",
       "      <td>37300.0</td>\n",
       "      <td>0</td>\n",
       "      <td>12.0</td>\n",
       "    </tr>\n",
       "    <tr>\n",
       "      <th>1047</th>\n",
       "      <td>1</td>\n",
       "      <td>30</td>\n",
       "      <td>37300.0</td>\n",
       "      <td>2</td>\n",
       "      <td>13.0</td>\n",
       "    </tr>\n",
       "  </tbody>\n",
       "</table>\n",
       "</div>"
      ],
      "text/plain": [
       "      gender  age   income  family_members  distance\n",
       "100        0   19  37300.0               1       0.0\n",
       "4147       1   19  37300.0               2       2.0\n",
       "2569       1   19  37300.0               0       2.0\n",
       "1803       0   20  37300.0               2       2.0\n",
       "1078       0   22  37300.0               3       5.0\n",
       "1780       1   23  37300.0               0       6.0\n",
       "3357       1   25  37300.0               0       8.0\n",
       "565        1   27  37300.0               0      10.0\n",
       "168        0   30  37300.0               0      12.0\n",
       "1047       1   30  37300.0               2      13.0"
      ]
     },
     "metadata": {},
     "output_type": "display_data"
    },
    {
     "data": {
      "text/html": [
       "<div>\n",
       "<style scoped>\n",
       "    .dataframe tbody tr th:only-of-type {\n",
       "        vertical-align: middle;\n",
       "    }\n",
       "\n",
       "    .dataframe tbody tr th {\n",
       "        vertical-align: top;\n",
       "    }\n",
       "\n",
       "    .dataframe thead th {\n",
       "        text-align: right;\n",
       "    }\n",
       "</style>\n",
       "<table border=\"1\" class=\"dataframe\">\n",
       "  <thead>\n",
       "    <tr style=\"text-align: right;\">\n",
       "      <th></th>\n",
       "      <th>gender</th>\n",
       "      <th>age</th>\n",
       "      <th>income</th>\n",
       "      <th>family_members</th>\n",
       "      <th>distance</th>\n",
       "    </tr>\n",
       "  </thead>\n",
       "  <tbody>\n",
       "    <tr>\n",
       "      <th>100</th>\n",
       "      <td>0.0</td>\n",
       "      <td>0.292308</td>\n",
       "      <td>0.472152</td>\n",
       "      <td>0.166667</td>\n",
       "      <td>0.000000</td>\n",
       "    </tr>\n",
       "    <tr>\n",
       "      <th>4765</th>\n",
       "      <td>0.0</td>\n",
       "      <td>0.292308</td>\n",
       "      <td>0.477215</td>\n",
       "      <td>0.166667</td>\n",
       "      <td>0.005063</td>\n",
       "    </tr>\n",
       "    <tr>\n",
       "      <th>243</th>\n",
       "      <td>0.0</td>\n",
       "      <td>0.292308</td>\n",
       "      <td>0.467089</td>\n",
       "      <td>0.166667</td>\n",
       "      <td>0.005063</td>\n",
       "    </tr>\n",
       "    <tr>\n",
       "      <th>1309</th>\n",
       "      <td>0.0</td>\n",
       "      <td>0.292308</td>\n",
       "      <td>0.456962</td>\n",
       "      <td>0.166667</td>\n",
       "      <td>0.015190</td>\n",
       "    </tr>\n",
       "    <tr>\n",
       "      <th>806</th>\n",
       "      <td>0.0</td>\n",
       "      <td>0.307692</td>\n",
       "      <td>0.470886</td>\n",
       "      <td>0.166667</td>\n",
       "      <td>0.016650</td>\n",
       "    </tr>\n",
       "    <tr>\n",
       "      <th>4694</th>\n",
       "      <td>0.0</td>\n",
       "      <td>0.307692</td>\n",
       "      <td>0.469620</td>\n",
       "      <td>0.166667</td>\n",
       "      <td>0.017916</td>\n",
       "    </tr>\n",
       "    <tr>\n",
       "      <th>4387</th>\n",
       "      <td>0.0</td>\n",
       "      <td>0.276923</td>\n",
       "      <td>0.467089</td>\n",
       "      <td>0.166667</td>\n",
       "      <td>0.020448</td>\n",
       "    </tr>\n",
       "    <tr>\n",
       "      <th>4490</th>\n",
       "      <td>0.0</td>\n",
       "      <td>0.292308</td>\n",
       "      <td>0.450633</td>\n",
       "      <td>0.166667</td>\n",
       "      <td>0.021519</td>\n",
       "    </tr>\n",
       "    <tr>\n",
       "      <th>1628</th>\n",
       "      <td>0.0</td>\n",
       "      <td>0.276923</td>\n",
       "      <td>0.465823</td>\n",
       "      <td>0.166667</td>\n",
       "      <td>0.021714</td>\n",
       "    </tr>\n",
       "    <tr>\n",
       "      <th>2991</th>\n",
       "      <td>0.0</td>\n",
       "      <td>0.307692</td>\n",
       "      <td>0.463291</td>\n",
       "      <td>0.166667</td>\n",
       "      <td>0.024245</td>\n",
       "    </tr>\n",
       "  </tbody>\n",
       "</table>\n",
       "</div>"
      ],
      "text/plain": [
       "      gender       age    income  family_members  distance\n",
       "100      0.0  0.292308  0.472152        0.166667  0.000000\n",
       "4765     0.0  0.292308  0.477215        0.166667  0.005063\n",
       "243      0.0  0.292308  0.467089        0.166667  0.005063\n",
       "1309     0.0  0.292308  0.456962        0.166667  0.015190\n",
       "806      0.0  0.307692  0.470886        0.166667  0.016650\n",
       "4694     0.0  0.307692  0.469620        0.166667  0.017916\n",
       "4387     0.0  0.276923  0.467089        0.166667  0.020448\n",
       "4490     0.0  0.292308  0.450633        0.166667  0.021519\n",
       "1628     0.0  0.276923  0.465823        0.166667  0.021714\n",
       "2991     0.0  0.307692  0.463291        0.166667  0.024245"
      ]
     },
     "metadata": {},
     "output_type": "display_data"
    }
   ],
   "source": [
    "features = df.drop('insurance_benefits', axis=1)\n",
    "\n",
    "display(get_knn(features, 100, 10, 'euclidean'))\n",
    "display(get_knn(scale_data(features), 100, 10, 'euclidean'))\n",
    "\n",
    "display(get_knn(features, 100, 10, 'manhattan'))\n",
    "display(get_knn(scale_data(features), 100, 10, 'manhattan'))"
   ]
  },
  {
   "attachments": {},
   "cell_type": "markdown",
   "metadata": {},
   "source": [
    "**Does the data being not scaled affect the kNN algorithm? If so, how does that appear?** \n",
    "\n",
    "Scaling appears to affect the kNN algorithm for our dataset. It is more intuitive to see in the manhattan distance calculation since we're dealing with the sum of the distances for each feature. When the dataset is not scaled, the nearest neighbors that are retrieved are the rows with features that gives us the smallest total distance delta from observation n, but the kNN algorithm does not take into account how representative each feature value is within its individual column. For example, if we have a population with similar income and high dispersion in age, the magnitude of change between observations is relatively small when compared to the alternative case of similarly aged population with a large dispersion in income. When the dataset is scaled or normalized, the feature values should be relative to each other within each column, thus neighbors of n would be more representive of similar observations."
   ]
  },
  {
   "attachments": {},
   "cell_type": "markdown",
   "metadata": {},
   "source": [
    "**How similar are the results using the Manhattan distance metric (regardless of the scaling)?** \n",
    "\n",
    "In our dataset, it appears both distance calculations retrieve similar observations for the most part. The two lists of neighbors begin to differ as the number of neighbors get higher (i.e. k increases)."
   ]
  },
  {
   "attachments": {},
   "cell_type": "markdown",
   "metadata": {},
   "source": [
    "## Task 2. Is Customer Likely to Receive Insurance Benefit? ##\n",
    "\n",
    "With *insurance_benefits* being more than zero as the target, evaluate whether the kNN classification approach can do better than a dummy model. The probability of paying any insurance benefit can be defined as:\n",
    "\n",
    "$$\n",
    "P\\{\\text{insurance benefit received}\\}=\\frac{\\text{number of clients received any insurance benefit}}{\\text{total number of clients}}\n",
    "$$\n",
    "\n",
    "The dataset will be split using a 70:30 ratio for training and testing."
   ]
  },
  {
   "attachments": {},
   "cell_type": "markdown",
   "metadata": {},
   "source": [
    "**Split the Dataset and Calculate the Target**"
   ]
  },
  {
   "cell_type": "code",
   "execution_count": 10,
   "metadata": {},
   "outputs": [
    {
     "name": "stdout",
     "output_type": "stream",
     "text": [
      "(3392, 4) (3392,) (1455, 4) (1455,)\n",
      "(3392, 4) (1455, 4)\n"
     ]
    }
   ],
   "source": [
    "df['insurance_benefits_received'] = np.where(df['insurance_benefits'] > 0, 1, 0)\n",
    "\n",
    "features = df.drop(['insurance_benefits_received', 'insurance_benefits'], axis=1)\n",
    "target = df['insurance_benefits_received']\n",
    "\n",
    "X_train, X_test, y_train, y_test = train_test_split(features, target, test_size = 0.30, random_state=12345)\n",
    "X_train_scaled, X_test_scaled = scale_data(X_train, X_test)\n",
    "\n",
    "print(X_train.shape, y_train.shape, X_test.shape, y_test.shape)\n",
    "print(X_train_scaled.shape, X_test_scaled.shape)"
   ]
  },
  {
   "attachments": {},
   "cell_type": "markdown",
   "metadata": {},
   "source": [
    "**Check for Class Imbalance**"
   ]
  },
  {
   "cell_type": "code",
   "execution_count": 11,
   "metadata": {},
   "outputs": [
    {
     "data": {
      "text/plain": [
       "0    2997\n",
       "1     395\n",
       "Name: insurance_benefits_received, dtype: int64"
      ]
     },
     "metadata": {},
     "output_type": "display_data"
    }
   ],
   "source": [
    "display(y_train.value_counts())"
   ]
  },
  {
   "attachments": {},
   "cell_type": "markdown",
   "metadata": {},
   "source": [
    "There is a large class imbalance (about 7.5:1), which was expected based on the skewed values found during our examination of the insurance_benefits column."
   ]
  },
  {
   "attachments": {},
   "cell_type": "markdown",
   "metadata": {},
   "source": [
    "### Function Definitions\n",
    "\n",
    "Function, <code>eval_classifier()</code>, defined as follows:  \n",
    "\n",
    "**Parameters**\n",
    "- *y_true*: Actual target values\n",
    "- *y_pred*: Predicted target values\n",
    "\n",
    "**Returns**: None. Prints the calculated F1 score and confusion matrix."
   ]
  },
  {
   "cell_type": "code",
   "execution_count": 12,
   "metadata": {},
   "outputs": [],
   "source": [
    "def eval_classifier(y_true, y_pred):\n",
    "    \n",
    "    f1_score = sklearn.metrics.f1_score(y_true, y_pred)\n",
    "    print(f'F1: {f1_score:.2f}')\n",
    "    \n",
    "    cm = sklearn.metrics.confusion_matrix(y_true, y_pred, normalize='all')\n",
    "    print('Confusion Matrix')\n",
    "    print(cm)"
   ]
  },
  {
   "attachments": {},
   "cell_type": "markdown",
   "metadata": {},
   "source": [
    "Function, <code>rnd_model_predict()</code>, defined as follows:  \n",
    "\n",
    "**Parameters**\n",
    "- *P*: Probability of insurance benefit received for our constant/dummy cases (e.g. 0, 0.5, 1, etc.)\n",
    "- *seed*: Pseudo-random seed (default values 42)\n",
    "\n",
    "**Returns**: Randomly generated binomial that will be used to create our dummy predictions."
   ]
  },
  {
   "cell_type": "code",
   "execution_count": 13,
   "metadata": {},
   "outputs": [],
   "source": [
    "def rnd_model_predict(P, size, seed=42):\n",
    "    rng = np.random.default_rng(seed=seed)\n",
    "    return rng.binomial(n=1, p=P, size=size)"
   ]
  },
  {
   "attachments": {},
   "cell_type": "markdown",
   "metadata": {},
   "source": [
    "Evaluating dummy models and recording baseline F1 scores."
   ]
  },
  {
   "cell_type": "code",
   "execution_count": 14,
   "metadata": {},
   "outputs": [
    {
     "name": "stdout",
     "output_type": "stream",
     "text": [
      "The probability: 0.00\n",
      "F1: 0.00\n",
      "Confusion Matrix\n",
      "[[0.88384568 0.        ]\n",
      " [0.11615432 0.        ]]\n",
      "\n",
      "The probability: 0.12\n",
      "F1: 0.13\n",
      "Confusion Matrix\n",
      "[[0.78502166 0.09882401]\n",
      " [0.1017124  0.01444192]]\n",
      "\n",
      "The probability: 0.50\n",
      "F1: 0.19\n",
      "Confusion Matrix\n",
      "[[0.44873117 0.4351145 ]\n",
      " [0.05921188 0.05694244]]\n",
      "\n",
      "The probability: 1.00\n",
      "F1: 0.21\n",
      "Confusion Matrix\n",
      "[[0.         0.88384568]\n",
      " [0.         0.11615432]]\n",
      "\n"
     ]
    }
   ],
   "source": [
    "for P in [0, df['insurance_benefits_received'].sum() / len(df), 0.5, 1]:\n",
    "    print(f'The probability: {P:.2f}')\n",
    "    y_pred_rnd = rnd_model_predict(P, len(df))\n",
    "            \n",
    "    eval_classifier(df['insurance_benefits_received'], y_pred_rnd)\n",
    "    print()"
   ]
  },
  {
   "attachments": {},
   "cell_type": "markdown",
   "metadata": {},
   "source": [
    "Evaluating the kNN prediction models using the original and scaled datasets."
   ]
  },
  {
   "attachments": {},
   "cell_type": "markdown",
   "metadata": {},
   "source": [
    "**Original Dataset**"
   ]
  },
  {
   "cell_type": "code",
   "execution_count": 15,
   "metadata": {},
   "outputs": [
    {
     "name": "stdout",
     "output_type": "stream",
     "text": [
      "K = 1\n",
      "F1: 0.67\n",
      "Confusion Matrix\n",
      "[[0.86323024 0.02130584]\n",
      " [0.04604811 0.06941581]]\n",
      "\n",
      "K = 2\n",
      "F1: 0.38\n",
      "Confusion Matrix\n",
      "[[0.87972509 0.004811  ]\n",
      " [0.08728522 0.02817869]]\n",
      "\n",
      "K = 3\n",
      "F1: 0.38\n",
      "Confusion Matrix\n",
      "[[0.87079038 0.0137457 ]\n",
      " [0.08522337 0.03024055]]\n",
      "\n",
      "K = 4\n",
      "F1: 0.18\n",
      "Confusion Matrix\n",
      "[[0.8790378  0.00549828]\n",
      " [0.10378007 0.01168385]]\n",
      "\n",
      "K = 5\n",
      "F1: 0.23\n",
      "Confusion Matrix\n",
      "[[0.87766323 0.00687285]\n",
      " [0.09965636 0.01580756]]\n",
      "\n",
      "K = 6\n",
      "F1: 0.06\n",
      "Confusion Matrix\n",
      "[[8.83848797e-01 6.87285223e-04]\n",
      " [1.12027491e-01 3.43642612e-03]]\n",
      "\n",
      "K = 7\n",
      "F1: 0.07\n",
      "Confusion Matrix\n",
      "[[0.88316151 0.00137457]\n",
      " [0.11134021 0.00412371]]\n",
      "\n",
      "K = 8\n",
      "F1: 0.00\n",
      "Confusion Matrix\n",
      "[[0.88453608 0.        ]\n",
      " [0.11546392 0.        ]]\n",
      "\n",
      "K = 9\n",
      "F1: 0.01\n",
      "Confusion Matrix\n",
      "[[8.84536082e-01 0.00000000e+00]\n",
      " [1.14776632e-01 6.87285223e-04]]\n",
      "\n",
      "K = 10\n",
      "F1: 0.00\n",
      "Confusion Matrix\n",
      "[[0.88453608 0.        ]\n",
      " [0.11546392 0.        ]]\n",
      "\n"
     ]
    }
   ],
   "source": [
    "for n in range(1,11):\n",
    "    print(f'K = {n}')\n",
    "    kn_clf = KNeighborsClassifier(n_neighbors=n) \n",
    "    kn_clf.fit(X_train, y_train)\n",
    "    eval_classifier(y_test, kn_clf.predict(X_test))\n",
    "    print()"
   ]
  },
  {
   "attachments": {},
   "cell_type": "markdown",
   "metadata": {},
   "source": [
    "For the orginal dataset, F1 score decreases as k increases. This is likely due to the class imbalance we observed earlier; the model appears susceptible to misclassification as we look for more neighbors of *n* since the sample subspaces are not uniformly distributed. Specifically, when looking for more than 3 nearest neighbors the model performs worse than our baseline constant model."
   ]
  },
  {
   "attachments": {},
   "cell_type": "markdown",
   "metadata": {},
   "source": [
    "**Scaled Dataset**"
   ]
  },
  {
   "cell_type": "code",
   "execution_count": 16,
   "metadata": {},
   "outputs": [
    {
     "name": "stdout",
     "output_type": "stream",
     "text": [
      "K = 1\n",
      "F1: 0.92\n",
      "Confusion Matrix\n",
      "[[0.87972509 0.004811  ]\n",
      " [0.01237113 0.10309278]]\n",
      "\n",
      "K = 2\n",
      "F1: 0.89\n",
      "Confusion Matrix\n",
      "[[0.88247423 0.00206186]\n",
      " [0.02199313 0.09347079]]\n",
      "\n",
      "K = 3\n",
      "F1: 0.90\n",
      "Confusion Matrix\n",
      "[[0.88041237 0.00412371]\n",
      " [0.01786942 0.0975945 ]]\n",
      "\n",
      "K = 4\n",
      "F1: 0.87\n",
      "Confusion Matrix\n",
      "[[0.88247423 0.00206186]\n",
      " [0.02474227 0.09072165]]\n",
      "\n",
      "K = 5\n",
      "F1: 0.90\n",
      "Confusion Matrix\n",
      "[[0.87972509 0.004811  ]\n",
      " [0.01786942 0.0975945 ]]\n",
      "\n",
      "K = 6\n",
      "F1: 0.85\n",
      "Confusion Matrix\n",
      "[[0.88178694 0.00274914]\n",
      " [0.02749141 0.08797251]]\n",
      "\n",
      "K = 7\n",
      "F1: 0.89\n",
      "Confusion Matrix\n",
      "[[0.88178694 0.00274914]\n",
      " [0.02061856 0.09484536]]\n",
      "\n",
      "K = 8\n",
      "F1: 0.86\n",
      "Confusion Matrix\n",
      "[[0.88247423 0.00206186]\n",
      " [0.02680412 0.08865979]]\n",
      "\n",
      "K = 9\n",
      "F1: 0.87\n",
      "Confusion Matrix\n",
      "[[0.88178694 0.00274914]\n",
      " [0.02405498 0.09140893]]\n",
      "\n",
      "K = 10\n",
      "F1: 0.85\n",
      "Confusion Matrix\n",
      "[[0.88178694 0.00274914]\n",
      " [0.02749141 0.08797251]]\n",
      "\n"
     ]
    }
   ],
   "source": [
    "for n in range(1,11):\n",
    "    print(f'K = {n}')\n",
    "    kn_clf = KNeighborsClassifier(n_neighbors=n)      \n",
    "    kn_clf.fit(X_train_scaled, y_train)\n",
    "    eval_classifier(y_test, kn_clf.predict(X_test_scaled))\n",
    "    print()"
   ]
  },
  {
   "attachments": {},
   "cell_type": "markdown",
   "metadata": {},
   "source": [
    "When the model is trained with the scaled datasets, we can see the F1 score is consistently higher than the dummy models for all k-iterations."
   ]
  },
  {
   "attachments": {},
   "cell_type": "markdown",
   "metadata": {},
   "source": [
    "## Task 3. Regression (with Linear Regression) ##\n",
    "\n",
    "With *insurance_benefits* as the target, evaluate what RMSE would be for a Linear Regression model. Check RMSE for both the original data and the scaled one.\n",
    "\n",
    "Let's denote:\n",
    "- $X$ — feature matrix, each row is a case, each column is a feature, the first column consists of unities\n",
    "- $y$ — target (a vector)\n",
    "- $\\hat{y}$ — estimated tagret (a vector)\n",
    "- $w$ — weight vector\n",
    "\n",
    "The task of linear regression in the language of matrices can be formulated as:\n",
    "\n",
    "$$\n",
    "y = Xw\n",
    "$$\n",
    "\n",
    "The training objective then is to find such $w$ that it would minimize the L2-distance (MSE) between $Xw$ and $y$:\n",
    "\n",
    "$$\n",
    "\\min_w d_2(Xw, y) \\quad \\text{or} \\quad \\min_w \\text{MSE}(Xw, y)\n",
    "$$\n",
    "\n",
    "The analytical solution for the above:\n",
    "\n",
    "$$\n",
    "w = (X^T X)^{-1} X^T y\n",
    "$$\n",
    "\n",
    "The formula above can be used to find the weights $w$ and the latter can be used to calculate predicted values:\n",
    "\n",
    "$$\n",
    "\\hat{y} = X_{val}w\n",
    "$$\n",
    "\n",
    "Again, the dataset will be split using a 70:30 ratio. The RMSE metric will be used for the model evaluation. Can you see any difference in RMSE between these two cases?"
   ]
  },
  {
   "attachments": {},
   "cell_type": "markdown",
   "metadata": {},
   "source": [
    "**Class Definition**"
   ]
  },
  {
   "cell_type": "code",
   "execution_count": 17,
   "metadata": {},
   "outputs": [],
   "source": [
    "class MyLinearRegression:\n",
    "    \n",
    "    def __init__(self):\n",
    "        \n",
    "        self.weights = None\n",
    "    \n",
    "    def fit(self, X, y):\n",
    "        \n",
    "        # adding the unities\n",
    "        X2 = np.append(np.ones([len(X), 1]), X, axis=1)\n",
    "        self.weights = np.linalg.inv(X2.T.dot(X2)).dot(X2.T).dot(y)\n",
    "        \n",
    "    def predict(self, X):\n",
    "        \n",
    "        # adding the unities\n",
    "        X2 = np.append(np.ones([len(X), 1]), X, axis=1)\n",
    "        y_pred = X2.dot(self.weights)\n",
    "        \n",
    "        return y_pred"
   ]
  },
  {
   "attachments": {},
   "cell_type": "markdown",
   "metadata": {},
   "source": [
    "**Evaluation Function**\n",
    "\n",
    "Function, <code>eval_regressor()</code>, defined as follows:  \n",
    "\n",
    "**Parameters**\n",
    "- *y_true*: Actual target values\n",
    "- *y_pred*: Predicted target values\n",
    "\n",
    "**Returns**: None. Prints the calculated RMSE and $R^{2}$ scores."
   ]
  },
  {
   "cell_type": "code",
   "execution_count": 18,
   "metadata": {},
   "outputs": [],
   "source": [
    "def eval_regressor(y_true, y_pred):\n",
    "    \n",
    "    rmse = math.sqrt(sklearn.metrics.mean_squared_error(y_true, y_pred))\n",
    "    print(f'RMSE: {rmse:.2f}')\n",
    "    \n",
    "    r2_score = math.sqrt(sklearn.metrics.r2_score(y_true, y_pred))\n",
    "    print(f'R2: {r2_score:.2f}')"
   ]
  },
  {
   "attachments": {},
   "cell_type": "markdown",
   "metadata": {},
   "source": [
    "**Original Dataset**"
   ]
  },
  {
   "cell_type": "code",
   "execution_count": 19,
   "metadata": {},
   "outputs": [
    {
     "name": "stdout",
     "output_type": "stream",
     "text": [
      "[-9.77366729e-01  3.58042291e-02  1.95594888e-02  5.85336165e-07\n",
      " -1.21618420e-02]\n",
      "RMSE: 0.36\n",
      "R2: 0.66\n"
     ]
    }
   ],
   "source": [
    "X = df[['age', 'gender', 'income', 'family_members']]\n",
    "y = df['insurance_benefits']\n",
    "\n",
    "X_train, X_test, y_train, y_test = train_test_split(X, y, test_size=0.3, random_state=12345)\n",
    "\n",
    "lr = MyLinearRegression()\n",
    "\n",
    "lr.fit(X_train, y_train)\n",
    "print(lr.weights)\n",
    "\n",
    "y_test_pred = lr.predict(X_test)\n",
    "eval_regressor(y_test, y_test_pred)"
   ]
  },
  {
   "attachments": {},
   "cell_type": "markdown",
   "metadata": {},
   "source": [
    "**Scaled Dataset**"
   ]
  },
  {
   "cell_type": "code",
   "execution_count": 20,
   "metadata": {},
   "outputs": [
    {
     "name": "stdout",
     "output_type": "stream",
     "text": [
      "[-0.97736673  2.32727489  0.01955949  0.04378315 -0.07297105]\n",
      "RMSE: 0.36\n",
      "R2: 0.66\n"
     ]
    }
   ],
   "source": [
    "X_train_scaled, X_test_scaled = scale_data(X_train, X_test)\n",
    "\n",
    "lr = MyLinearRegression()\n",
    "lr.fit(X_train_scaled, y_train)\n",
    "print(lr.weights)\n",
    "\n",
    "y_test_pred = lr.predict(X_test_scaled)\n",
    "eval_regressor(y_test, y_test_pred)"
   ]
  },
  {
   "attachments": {},
   "cell_type": "markdown",
   "metadata": {},
   "source": [
    "Even though the feature weights are different, the RMSE and $R^{2}$ scores appear to be the same regardless on which dataset was used to train the model."
   ]
  },
  {
   "attachments": {},
   "cell_type": "markdown",
   "metadata": {},
   "source": [
    "## Task 4. Obfuscating Data ##\n",
    "\n",
    "Data obfuscation will be accomplished by multiplying the numerical features by an invertible matrix $P$:\n",
    "\n",
    "$$\n",
    "X' = X \\times P\n",
    "$$"
   ]
  },
  {
   "cell_type": "code",
   "execution_count": 21,
   "metadata": {},
   "outputs": [],
   "source": [
    "personal_info_column_list = ['gender', 'age', 'income', 'family_members']\n",
    "df_pn = df[personal_info_column_list]"
   ]
  },
  {
   "attachments": {},
   "cell_type": "markdown",
   "metadata": {},
   "source": [
    "Generating a random matrix $P$."
   ]
  },
  {
   "cell_type": "code",
   "execution_count": 22,
   "metadata": {},
   "outputs": [],
   "source": [
    "X = df_pn.to_numpy()\n",
    "rng = np.random.default_rng(seed=42)\n",
    "P = rng.random(size=(X.shape[1], X.shape[1]))"
   ]
  },
  {
   "attachments": {},
   "cell_type": "markdown",
   "metadata": {},
   "source": [
    "Checking the matrix $P$ is invertible"
   ]
  },
  {
   "cell_type": "code",
   "execution_count": 23,
   "metadata": {},
   "outputs": [
    {
     "name": "stdout",
     "output_type": "stream",
     "text": [
      "Inverse of P:\n",
      "[[ 0.41467992 -1.43783972  0.62798546  1.14001268]\n",
      " [-1.06101789  0.44219337  0.1329549   1.18425933]\n",
      " [ 1.42362442  1.60461607 -2.0553823  -1.53699695]\n",
      " [-0.11128575 -0.65813802  1.74995517 -0.11816316]]\n"
     ]
    }
   ],
   "source": [
    "try:\n",
    "    print(f'Inverse of P:\\n{np.linalg.inv(P)}')\n",
    "except:\n",
    "    print('Matrix P is not invertible.')"
   ]
  },
  {
   "attachments": {},
   "cell_type": "markdown",
   "metadata": {},
   "source": [
    "**Can you guess the customers' ages or income after the transformation?**"
   ]
  },
  {
   "cell_type": "code",
   "execution_count": 24,
   "metadata": {},
   "outputs": [
    {
     "name": "stdout",
     "output_type": "stream",
     "text": [
      "Original matrix X\n",
      "[[1.00e+00 4.10e+01 4.96e+04 1.00e+00]\n",
      " [0.00e+00 4.60e+01 3.80e+04 1.00e+00]\n",
      " [0.00e+00 2.90e+01 2.10e+04 0.00e+00]\n",
      " ...\n",
      " [0.00e+00 2.00e+01 3.39e+04 2.00e+00]\n",
      " [1.00e+00 2.20e+01 3.27e+04 3.00e+00]\n",
      " [1.00e+00 2.80e+01 4.06e+04 1.00e+00]]\n",
      "\n",
      "Transformed matrix X'\n",
      "[[ 6359.71527314 22380.40467609 18424.09074184 46000.69669016]\n",
      " [ 4873.29406479 17160.36702982 14125.78076133 35253.45577301]\n",
      " [ 2693.11742928  9486.397744    7808.83156024 19484.86063067]\n",
      " ...\n",
      " [ 4346.2234249  15289.24126492 12586.16264392 31433.50888552]\n",
      " [ 4194.09324155 14751.9910242  12144.02930637 30323.88763426]\n",
      " [ 5205.46827354 18314.24814446 15077.01370762 37649.59295455]]\n"
     ]
    }
   ],
   "source": [
    "X_prime = X.dot(P)\n",
    "print(f'Original matrix X\\n{X}')\n",
    "print()\n",
    "print(f'Transformed matrix X\\'\\n{X_prime}')"
   ]
  },
  {
   "attachments": {},
   "cell_type": "markdown",
   "metadata": {},
   "source": [
    "The following are samples from the original dataset with the corresponding rows in the transformed matrix."
   ]
  },
  {
   "cell_type": "code",
   "execution_count": 25,
   "metadata": {},
   "outputs": [
    {
     "data": {
      "text/html": [
       "<div>\n",
       "<style scoped>\n",
       "    .dataframe tbody tr th:only-of-type {\n",
       "        vertical-align: middle;\n",
       "    }\n",
       "\n",
       "    .dataframe tbody tr th {\n",
       "        vertical-align: top;\n",
       "    }\n",
       "\n",
       "    .dataframe thead th {\n",
       "        text-align: right;\n",
       "    }\n",
       "</style>\n",
       "<table border=\"1\" class=\"dataframe\">\n",
       "  <thead>\n",
       "    <tr style=\"text-align: right;\">\n",
       "      <th></th>\n",
       "      <th>gender</th>\n",
       "      <th>age</th>\n",
       "      <th>income</th>\n",
       "      <th>family_members</th>\n",
       "      <th>insurance_benefits</th>\n",
       "      <th>insurance_benefits_received</th>\n",
       "    </tr>\n",
       "  </thead>\n",
       "  <tbody>\n",
       "    <tr>\n",
       "      <th>1321</th>\n",
       "      <td>1</td>\n",
       "      <td>23</td>\n",
       "      <td>47200.0</td>\n",
       "      <td>0</td>\n",
       "      <td>0</td>\n",
       "      <td>0</td>\n",
       "    </tr>\n",
       "    <tr>\n",
       "      <th>3767</th>\n",
       "      <td>1</td>\n",
       "      <td>32</td>\n",
       "      <td>65900.0</td>\n",
       "      <td>0</td>\n",
       "      <td>0</td>\n",
       "      <td>0</td>\n",
       "    </tr>\n",
       "    <tr>\n",
       "      <th>166</th>\n",
       "      <td>1</td>\n",
       "      <td>33</td>\n",
       "      <td>33900.0</td>\n",
       "      <td>2</td>\n",
       "      <td>0</td>\n",
       "      <td>0</td>\n",
       "    </tr>\n",
       "    <tr>\n",
       "      <th>2935</th>\n",
       "      <td>0</td>\n",
       "      <td>39</td>\n",
       "      <td>19300.0</td>\n",
       "      <td>2</td>\n",
       "      <td>0</td>\n",
       "      <td>0</td>\n",
       "    </tr>\n",
       "    <tr>\n",
       "      <th>423</th>\n",
       "      <td>0</td>\n",
       "      <td>46</td>\n",
       "      <td>27500.0</td>\n",
       "      <td>2</td>\n",
       "      <td>1</td>\n",
       "      <td>1</td>\n",
       "    </tr>\n",
       "  </tbody>\n",
       "</table>\n",
       "</div>"
      ],
      "text/plain": [
       "      gender  age   income  family_members  insurance_benefits  \\\n",
       "1321       1   23  47200.0               0                   0   \n",
       "3767       1   32  65900.0               0                   0   \n",
       "166        1   33  33900.0               2                   0   \n",
       "2935       0   39  19300.0               2                   0   \n",
       "423        0   46  27500.0               2                   1   \n",
       "\n",
       "      insurance_benefits_received  \n",
       "1321                            0  \n",
       "3767                            0  \n",
       "166                             0  \n",
       "2935                            0  \n",
       "423                             1  "
      ]
     },
     "metadata": {},
     "output_type": "display_data"
    },
    {
     "data": {
      "text/html": [
       "<div>\n",
       "<style scoped>\n",
       "    .dataframe tbody tr th:only-of-type {\n",
       "        vertical-align: middle;\n",
       "    }\n",
       "\n",
       "    .dataframe tbody tr th {\n",
       "        vertical-align: top;\n",
       "    }\n",
       "\n",
       "    .dataframe thead th {\n",
       "        text-align: right;\n",
       "    }\n",
       "</style>\n",
       "<table border=\"1\" class=\"dataframe\">\n",
       "  <thead>\n",
       "    <tr style=\"text-align: right;\">\n",
       "      <th></th>\n",
       "      <th>gender</th>\n",
       "      <th>age</th>\n",
       "      <th>income</th>\n",
       "      <th>family_members</th>\n",
       "    </tr>\n",
       "  </thead>\n",
       "  <tbody>\n",
       "    <tr>\n",
       "      <th>0</th>\n",
       "      <td>6049.903497</td>\n",
       "      <td>21281.094461</td>\n",
       "      <td>17520.031555</td>\n",
       "      <td>43762.084321</td>\n",
       "    </tr>\n",
       "    <tr>\n",
       "      <th>1</th>\n",
       "      <td>8446.476024</td>\n",
       "      <td>29712.092101</td>\n",
       "      <td>24460.804865</td>\n",
       "      <td>61099.664191</td>\n",
       "    </tr>\n",
       "    <tr>\n",
       "      <th>2</th>\n",
       "      <td>4348.221686</td>\n",
       "      <td>15302.363234</td>\n",
       "      <td>12596.916058</td>\n",
       "      <td>31444.425090</td>\n",
       "    </tr>\n",
       "    <tr>\n",
       "      <th>3</th>\n",
       "      <td>2477.553757</td>\n",
       "      <td>8732.143396</td>\n",
       "      <td>7186.973144</td>\n",
       "      <td>17917.675270</td>\n",
       "    </tr>\n",
       "    <tr>\n",
       "      <th>4</th>\n",
       "      <td>3528.744787</td>\n",
       "      <td>12432.137444</td>\n",
       "      <td>10232.844921</td>\n",
       "      <td>25522.650629</td>\n",
       "    </tr>\n",
       "  </tbody>\n",
       "</table>\n",
       "</div>"
      ],
      "text/plain": [
       "        gender           age        income  family_members\n",
       "0  6049.903497  21281.094461  17520.031555    43762.084321\n",
       "1  8446.476024  29712.092101  24460.804865    61099.664191\n",
       "2  4348.221686  15302.363234  12596.916058    31444.425090\n",
       "3  2477.553757   8732.143396   7186.973144    17917.675270\n",
       "4  3528.744787  12432.137444  10232.844921    25522.650629"
      ]
     },
     "metadata": {},
     "output_type": "display_data"
    }
   ],
   "source": [
    "df_sample = df.sample(5, random_state=12345)\n",
    "display(df_sample)\n",
    "display(pd.DataFrame(X_prime[df_sample.index], columns=personal_info_column_list))"
   ]
  },
  {
   "attachments": {},
   "cell_type": "markdown",
   "metadata": {},
   "source": [
    "Guessing the original values of X appears to be virtually impossible."
   ]
  },
  {
   "attachments": {},
   "cell_type": "markdown",
   "metadata": {},
   "source": [
    "**Can you recover the original data from $X'$ if you know $P$?**"
   ]
  },
  {
   "attachments": {},
   "cell_type": "markdown",
   "metadata": {},
   "source": [
    "Using the associative property and the multiplicative identity property of matrix multiplication, we can obtain the original matrix X by performing the following operations.  \n",
    "\n",
    "$\\quad X' = X \\times P$  \n",
    "$\\quad X' \\times P^{-1} = (X \\times P) \\times P^{-1}$  \n",
    "$\\quad X' \\times P^{-1} = X \\times (P \\times P^{-1})$  \n",
    "$\\quad X' \\times P^{-1} = X \\times I$  \n",
    "$\\quad X' \\times P^{-1} = X$"
   ]
  },
  {
   "cell_type": "code",
   "execution_count": 26,
   "metadata": {},
   "outputs": [],
   "source": [
    "X_recovered = X_prime.dot(np.linalg.inv(P))"
   ]
  },
  {
   "attachments": {},
   "cell_type": "markdown",
   "metadata": {},
   "source": [
    "**Print all three cases for a few customers**\n",
    "- The original data\n",
    "- The transformed one\n",
    "- The reversed (recovered) one"
   ]
  },
  {
   "cell_type": "code",
   "execution_count": 27,
   "metadata": {},
   "outputs": [
    {
     "name": "stdout",
     "output_type": "stream",
     "text": [
      "Original matrix X\n",
      "[[1.00e+00 4.10e+01 4.96e+04 1.00e+00]\n",
      " [0.00e+00 4.60e+01 3.80e+04 1.00e+00]\n",
      " [0.00e+00 2.90e+01 2.10e+04 0.00e+00]\n",
      " ...\n",
      " [0.00e+00 2.00e+01 3.39e+04 2.00e+00]\n",
      " [1.00e+00 2.20e+01 3.27e+04 3.00e+00]\n",
      " [1.00e+00 2.80e+01 4.06e+04 1.00e+00]]\n",
      "\n",
      "Transformed matrix X'\n",
      "[[ 6359.71527314 22380.40467609 18424.09074184 46000.69669016]\n",
      " [ 4873.29406479 17160.36702982 14125.78076133 35253.45577301]\n",
      " [ 2693.11742928  9486.397744    7808.83156024 19484.86063067]\n",
      " ...\n",
      " [ 4346.2234249  15289.24126492 12586.16264392 31433.50888552]\n",
      " [ 4194.09324155 14751.9910242  12144.02930637 30323.88763426]\n",
      " [ 5205.46827354 18314.24814446 15077.01370762 37649.59295455]]\n",
      "\n",
      "Recovered matrix\n",
      "[[ 1.00000000e+00  4.10000000e+01  4.96000000e+04  1.00000000e+00]\n",
      " [-4.47363596e-12  4.60000000e+01  3.80000000e+04  1.00000000e+00]\n",
      " [-2.51586878e-12  2.90000000e+01  2.10000000e+04  9.52452315e-13]\n",
      " ...\n",
      " [-1.92837871e-12  2.00000000e+01  3.39000000e+04  2.00000000e+00]\n",
      " [ 1.00000000e+00  2.20000000e+01  3.27000000e+04  3.00000000e+00]\n",
      " [ 1.00000000e+00  2.80000000e+01  4.06000000e+04  1.00000000e+00]]\n"
     ]
    }
   ],
   "source": [
    "print(f'Original matrix X\\n{X}')\n",
    "print()\n",
    "print(f'Transformed matrix X\\'\\n{X_prime}')\n",
    "print()\n",
    "print(f'Recovered matrix\\n{X_recovered}')"
   ]
  },
  {
   "attachments": {},
   "cell_type": "markdown",
   "metadata": {},
   "source": [
    "Using the previous samples from the original dataset, we'll find the corresponding entries in the recovered matrix."
   ]
  },
  {
   "cell_type": "code",
   "execution_count": 28,
   "metadata": {},
   "outputs": [
    {
     "data": {
      "text/html": [
       "<div>\n",
       "<style scoped>\n",
       "    .dataframe tbody tr th:only-of-type {\n",
       "        vertical-align: middle;\n",
       "    }\n",
       "\n",
       "    .dataframe tbody tr th {\n",
       "        vertical-align: top;\n",
       "    }\n",
       "\n",
       "    .dataframe thead th {\n",
       "        text-align: right;\n",
       "    }\n",
       "</style>\n",
       "<table border=\"1\" class=\"dataframe\">\n",
       "  <thead>\n",
       "    <tr style=\"text-align: right;\">\n",
       "      <th></th>\n",
       "      <th>gender</th>\n",
       "      <th>age</th>\n",
       "      <th>income</th>\n",
       "      <th>family_members</th>\n",
       "      <th>insurance_benefits</th>\n",
       "      <th>insurance_benefits_received</th>\n",
       "    </tr>\n",
       "  </thead>\n",
       "  <tbody>\n",
       "    <tr>\n",
       "      <th>1321</th>\n",
       "      <td>1</td>\n",
       "      <td>23</td>\n",
       "      <td>47200.0</td>\n",
       "      <td>0</td>\n",
       "      <td>0</td>\n",
       "      <td>0</td>\n",
       "    </tr>\n",
       "    <tr>\n",
       "      <th>3767</th>\n",
       "      <td>1</td>\n",
       "      <td>32</td>\n",
       "      <td>65900.0</td>\n",
       "      <td>0</td>\n",
       "      <td>0</td>\n",
       "      <td>0</td>\n",
       "    </tr>\n",
       "    <tr>\n",
       "      <th>166</th>\n",
       "      <td>1</td>\n",
       "      <td>33</td>\n",
       "      <td>33900.0</td>\n",
       "      <td>2</td>\n",
       "      <td>0</td>\n",
       "      <td>0</td>\n",
       "    </tr>\n",
       "    <tr>\n",
       "      <th>2935</th>\n",
       "      <td>0</td>\n",
       "      <td>39</td>\n",
       "      <td>19300.0</td>\n",
       "      <td>2</td>\n",
       "      <td>0</td>\n",
       "      <td>0</td>\n",
       "    </tr>\n",
       "    <tr>\n",
       "      <th>423</th>\n",
       "      <td>0</td>\n",
       "      <td>46</td>\n",
       "      <td>27500.0</td>\n",
       "      <td>2</td>\n",
       "      <td>1</td>\n",
       "      <td>1</td>\n",
       "    </tr>\n",
       "  </tbody>\n",
       "</table>\n",
       "</div>"
      ],
      "text/plain": [
       "      gender  age   income  family_members  insurance_benefits  \\\n",
       "1321       1   23  47200.0               0                   0   \n",
       "3767       1   32  65900.0               0                   0   \n",
       "166        1   33  33900.0               2                   0   \n",
       "2935       0   39  19300.0               2                   0   \n",
       "423        0   46  27500.0               2                   1   \n",
       "\n",
       "      insurance_benefits_received  \n",
       "1321                            0  \n",
       "3767                            0  \n",
       "166                             0  \n",
       "2935                            0  \n",
       "423                             1  "
      ]
     },
     "metadata": {},
     "output_type": "display_data"
    },
    {
     "data": {
      "text/html": [
       "<div>\n",
       "<style scoped>\n",
       "    .dataframe tbody tr th:only-of-type {\n",
       "        vertical-align: middle;\n",
       "    }\n",
       "\n",
       "    .dataframe tbody tr th {\n",
       "        vertical-align: top;\n",
       "    }\n",
       "\n",
       "    .dataframe thead th {\n",
       "        text-align: right;\n",
       "    }\n",
       "</style>\n",
       "<table border=\"1\" class=\"dataframe\">\n",
       "  <thead>\n",
       "    <tr style=\"text-align: right;\">\n",
       "      <th></th>\n",
       "      <th>gender</th>\n",
       "      <th>age</th>\n",
       "      <th>income</th>\n",
       "      <th>family_members</th>\n",
       "    </tr>\n",
       "  </thead>\n",
       "  <tbody>\n",
       "    <tr>\n",
       "      <th>0</th>\n",
       "      <td>1.000000e+00</td>\n",
       "      <td>23.0</td>\n",
       "      <td>47200.0</td>\n",
       "      <td>-7.427727e-13</td>\n",
       "    </tr>\n",
       "    <tr>\n",
       "      <th>1</th>\n",
       "      <td>1.000000e+00</td>\n",
       "      <td>32.0</td>\n",
       "      <td>65900.0</td>\n",
       "      <td>3.019925e-12</td>\n",
       "    </tr>\n",
       "    <tr>\n",
       "      <th>2</th>\n",
       "      <td>1.000000e+00</td>\n",
       "      <td>33.0</td>\n",
       "      <td>33900.0</td>\n",
       "      <td>2.000000e+00</td>\n",
       "    </tr>\n",
       "    <tr>\n",
       "      <th>3</th>\n",
       "      <td>-2.608625e-12</td>\n",
       "      <td>39.0</td>\n",
       "      <td>19300.0</td>\n",
       "      <td>2.000000e+00</td>\n",
       "    </tr>\n",
       "    <tr>\n",
       "      <th>4</th>\n",
       "      <td>-1.949398e-12</td>\n",
       "      <td>46.0</td>\n",
       "      <td>27500.0</td>\n",
       "      <td>2.000000e+00</td>\n",
       "    </tr>\n",
       "  </tbody>\n",
       "</table>\n",
       "</div>"
      ],
      "text/plain": [
       "         gender   age   income  family_members\n",
       "0  1.000000e+00  23.0  47200.0   -7.427727e-13\n",
       "1  1.000000e+00  32.0  65900.0    3.019925e-12\n",
       "2  1.000000e+00  33.0  33900.0    2.000000e+00\n",
       "3 -2.608625e-12  39.0  19300.0    2.000000e+00\n",
       "4 -1.949398e-12  46.0  27500.0    2.000000e+00"
      ]
     },
     "metadata": {},
     "output_type": "display_data"
    }
   ],
   "source": [
    "display(df_sample)\n",
    "display(pd.DataFrame(X_recovered[df_sample.index], columns=personal_info_column_list))"
   ]
  },
  {
   "attachments": {},
   "cell_type": "markdown",
   "metadata": {},
   "source": [
    "**You can probably see that some values are not exactly the same as they are in the original data. What might be the reason for that?**"
   ]
  },
  {
   "attachments": {},
   "cell_type": "markdown",
   "metadata": {},
   "source": [
    "During the matrix transformations, the values are converted to floating point numbers. The recovered values may not be exactly the same as the original due to rounding errors, specifically for features with a value of zero."
   ]
  },
  {
   "attachments": {},
   "cell_type": "markdown",
   "metadata": {},
   "source": [
    "## Proof: Data Obfuscation Can Work with Linear Regression\n",
    "\n",
    "The data is obfuscated and there is $X \\times P$ instead of just $X$ now. Consequently, there are other weights $w_P$ as:\n",
    "\n",
    "$$\n",
    "w = (X^T X)^{-1} X^T y \\quad \\Rightarrow \\quad w_P = [(XP)^T XP]^{-1} (XP)^T y\n",
    "$$\n",
    "\n",
    "**How would $w$ and $w_P$ be linked if you simplify the formula for $w_P$ above?**"
   ]
  },
  {
   "attachments": {},
   "cell_type": "markdown",
   "metadata": {},
   "source": [
    "Based on the proof below, we can see that the formula is linked by the inverse matrix $P^{-1}$:\n",
    "  \n",
    "$$w_P = P^{-1} \\cdot w $$"
   ]
  },
  {
   "attachments": {},
   "cell_type": "markdown",
   "metadata": {},
   "source": [
    "**What would be predicted values with $w_P$?**"
   ]
  },
  {
   "attachments": {},
   "cell_type": "markdown",
   "metadata": {},
   "source": [
    "The predicted values with $w_P$ would be the same as the predicted values before the transformation. We can write the formula to calculate the predicted values with $w_P$ as: \n",
    "$$\\hat{y_P} = X_{val}P \\cdot w_P$$\n",
    "After we substitute $w_P$, the multipicative identity property gives us the original formula for the predicted values using the original weights $w$.\n",
    "$$\\hat{y_P} = X_{val}P \\cdot P^{-1} \\cdot w $$\n",
    "$$\\hat{y_P} = X_{val} \\cdot I \\cdot w $$\n",
    "$$\\hat{y_P} = X_{val} w $$\n",
    "$$\\hat{y_P} = \\hat{y} $$"
   ]
  },
  {
   "cell_type": "markdown",
   "metadata": {},
   "source": [
    "\n",
    "**What does that mean for the quality of linear regression if you measure it with RMSE?**"
   ]
  },
  {
   "attachments": {},
   "cell_type": "markdown",
   "metadata": {},
   "source": [
    "Since the two are equivalent, we can deduce that the RMSE will be the same (i.e. unaffected by the data obfuscation)."
   ]
  },
  {
   "cell_type": "markdown",
   "metadata": {},
   "source": [
    "\n",
    "\n",
    "**Analytical proof**"
   ]
  },
  {
   "attachments": {},
   "cell_type": "markdown",
   "metadata": {},
   "source": [
    "$\\quad w_P = [(XP)^T XP]^{-1} (XP)^T y$  \n",
    "$\\quad w_P = [P^T X^T XP]^{-1} P^T X^T y \\quad$ Reversity of the transpose of a product of matrices  \n",
    "$\\quad w_P = [P^T (X^TX) P]^{-1} P^T X^T y \\quad$ Associative property of multiplication   \n",
    "$\\quad w_P = P^{-1} (X^TX)^{-1} (P^T)^{-1} P^T X^T y \\quad$ Multiplicative identity property  \n",
    "$\\quad w_P = P^{-1} (X^TX)^{-1} [(P^T)^{-1} P^T] X^T y \\quad$ Associative property of multiplication  \n",
    "$\\quad w_P = P^{-1} (X^TX)^{-1} I \\cdot X^T y \\quad$ Multiplicative identity property  \n",
    "$\\quad w_P = P^{-1} (X^TX)^{-1} X^T y$  \n",
    "$\\quad w_P = P^{-1} \\cdot w $"
   ]
  },
  {
   "attachments": {},
   "cell_type": "markdown",
   "metadata": {},
   "source": [
    "## Test Linear Regression With Data Obfuscation ##"
   ]
  },
  {
   "attachments": {},
   "cell_type": "markdown",
   "metadata": {},
   "source": [
    "We can apply our proof using the previously defined functions and values.\n",
    "- P: invertible matrix of random numbers\n",
    "- X_prime: features matrix after data obfuscation (i.e. matrix transformation XP)"
   ]
  },
  {
   "cell_type": "code",
   "execution_count": 29,
   "metadata": {},
   "outputs": [
    {
     "name": "stdout",
     "output_type": "stream",
     "text": [
      "[-0.97736674 -0.05723409 -0.01932331  0.10398897 -0.02430271]\n",
      "RMSE: 0.36\n",
      "R2: 0.66\n"
     ]
    }
   ],
   "source": [
    "y = df['insurance_benefits'].to_numpy()\n",
    "X_train, X_test, y_train, y_test = train_test_split(X_prime, y, test_size=0.3, random_state=12345)\n",
    "\n",
    "lr = MyLinearRegression()\n",
    "\n",
    "lr.fit(X_train, y_train)\n",
    "print(lr.weights)\n",
    "\n",
    "y_test_pred = lr.predict(X_test)\n",
    "eval_regressor(y_test, y_test_pred)"
   ]
  },
  {
   "attachments": {},
   "cell_type": "markdown",
   "metadata": {},
   "source": [
    "As suggested by the proof, the RMSE and $R^{2}$ values are the same. Of note, we can see the feature weights reflect the changes to the dataset via transformation."
   ]
  },
  {
   "attachments": {},
   "cell_type": "markdown",
   "metadata": {},
   "source": [
    "## Conclusions ##\n",
    "\n",
    "In this project we see how linear algebra is foundational to machine learning models. Specifically, we learned how linear algebra was used to calculate the nearest neighbors of a given observation as well as feature weight calculations for linear regression models. Understanding how these calculations were made provided insight to the impacts of non-standardized data.\n",
    "\n",
    "In the case of class imbalances, we saw the quality of the KNearestNeighbor model dramatically decreased as we tried to find more neighbors for a given observation. That is, as k increased, the model was more susceptible to misclassify observations due to the nature of the uneven distribution of sample spaces. Additionally, we were able to improve the model quality after normalizing the dataset via scaling.\n",
    "\n",
    "During our analysis of matrix transformations, we proved and tested that data obfuscation can work with linear regression models without affecting certain evaluation metrics. While it is nearly impossible to guess the original values, it is important to note that the data can be reverse engineered if the transformation matrix (i.e. matrix P from our examples) is known."
   ]
  }
 ],
 "metadata": {
  "kernelspec": {
   "display_name": "Python 3",
   "language": "python",
   "name": "python3"
  },
  "language_info": {
   "codemirror_mode": {
    "name": "ipython",
    "version": 3
   },
   "file_extension": ".py",
   "mimetype": "text/x-python",
   "name": "python",
   "nbconvert_exporter": "python",
   "pygments_lexer": "ipython3",
   "version": "3.11.1"
  },
  "orig_nbformat": 4,
  "vscode": {
   "interpreter": {
    "hash": "2acc139864183d3ac83c310a405f58714beffd069d122ecf4c167777b3a3f96a"
   }
  }
 },
 "nbformat": 4,
 "nbformat_minor": 2
}
